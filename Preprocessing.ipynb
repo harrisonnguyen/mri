{
 "cells": [
  {
   "cell_type": "code",
   "execution_count": 1,
   "metadata": {
    "collapsed": true
   },
   "outputs": [],
   "source": [
    "%matplotlib inline\n",
    "from __future__ import print_function\n",
    "import numpy as np\n",
    "import matplotlib.pyplot as plt\n",
    "import nibabel as nib\n",
    "from nipype import Node, Workflow\n",
    "from nipype.interfaces import fsl\n",
    "import nipype.pipeline.engine as pe"
   ]
  },
  {
   "cell_type": "code",
   "execution_count": 2,
   "metadata": {
    "collapsed": true
   },
   "outputs": [],
   "source": [
    "def plot_slice(fname, z_idx=5):\n",
    "\n",
    "    # Load the image and collect the data\n",
    "    # and orientation information\n",
    "    img = nib.load(fname)\n",
    "    data = img.get_data()\n",
    "    aff = img.affine\n",
    "\n",
    "    # Find the center of the brain matrix\n",
    "    ctr = np.dot(np.linalg.inv(aff), [0, 0, 0, 1])[:3]\n",
    "\n",
    "    # Plot the data\n",
    "    #vmin, vmax = (0, 1) if data.dtype == np.int16 else (30, 150)\n",
    "    plt.imshow(np.rot90(data[:, :, ctr[2] + z_idx]),\n",
    "           cmap=\"gray\")\n",
    "    plt.gca().set_axis_off()"
   ]
  },
  {
   "cell_type": "code",
   "execution_count": 3,
   "metadata": {
    "collapsed": true
   },
   "outputs": [],
   "source": [
    "in_file = \"/RDSMount/STUDY_DATA/SMART_DATA/001_raw_data_archive/001_nii_data/BL/rsfMRI_nii_4D/SMART001rsfMRI_BL.img\"\n",
    "structural_file = '/RDSMount/STUDY_DATA/SMART_DATA/001_raw_data_archive/001_nii_data/BL/T1_nii/SMART001T1_BL.nii'\n",
    "standard_brain = \"/usr/share/fsl/5.0/data/standard/MNI152_T1_2mm_brain.nii.gz\""
   ]
  },
  {
   "cell_type": "code",
   "execution_count": 4,
   "metadata": {
    "collapsed": true
   },
   "outputs": [],
   "source": [
    "motion_correction = pe.MapNode(fsl.MCFLIRT(dof=6), name=\"motion_correction\",iterfield = ['in_file'])"
   ]
  },
  {
   "cell_type": "code",
   "execution_count": 5,
   "metadata": {
    "collapsed": false
   },
   "outputs": [],
   "source": [
    "fmri_skullstrip = pe.MapNode(fsl.BET(mask=True,functional=True), name=\"fmri_skullstrip\",iterfield = ['in_file'])"
   ]
  },
  {
   "cell_type": "code",
   "execution_count": 6,
   "metadata": {
    "collapsed": false
   },
   "outputs": [],
   "source": [
    "structural_skullstrip = pe.MapNode(fsl.BET(mask=True), name=\"structural_skullstrip\",\n",
    "                                   iterfield = ['in_file'])"
   ]
  },
  {
   "cell_type": "code",
   "execution_count": 7,
   "metadata": {
    "collapsed": false
   },
   "outputs": [],
   "source": [
    "epi_registration = pe.MapNode(fsl.epi.EpiReg(echospacing =0.0007 ),name = \"epi_registration\",\n",
    "                              iterfield = ['epi','t1_brain','t1_head'])"
   ]
  },
  {
   "cell_type": "code",
   "execution_count": 8,
   "metadata": {
    "collapsed": false
   },
   "outputs": [],
   "source": [
    "highres2standard = pe.MapNode(fsl.FLIRT(reference = standard_brain,cost = 'corratio',dof=12,interp = 'trilinear'),\n",
    "                             name = 'highres2standard',iterfield = ['in_file'])"
   ]
  },
  {
   "cell_type": "code",
   "execution_count": 9,
   "metadata": {
    "collapsed": true
   },
   "outputs": [],
   "source": [
    "standard2highres = pe.MapNode(fsl.ConvertXFM(invert_xfm=True),name = \"standard2highres\",\n",
    "                                  iterfield = ['in_file'])"
   ]
  },
  {
   "cell_type": "code",
   "execution_count": 10,
   "metadata": {
    "collapsed": false
   },
   "outputs": [
    {
     "name": "stderr",
     "output_type": "stream",
     "text": [
      "/usr/local/lib/python2.7/dist-packages/nipype/interfaces/base.py:431: UserWarning: Input concat_xfm requires inputs: in_file2\n",
      "  warn(msg)\n"
     ]
    }
   ],
   "source": [
    "example_func2standard = pe.MapNode(fsl.ConvertXFM(concat_xfm=True),name = \"example_func2standard\",\n",
    "                                  iterfield = ['in_file','in_file2'])"
   ]
  },
  {
   "cell_type": "code",
   "execution_count": 11,
   "metadata": {
    "collapsed": false
   },
   "outputs": [
    {
     "name": "stderr",
     "output_type": "stream",
     "text": [
      "/usr/local/lib/python2.7/dist-packages/nipype/interfaces/base.py:431: UserWarning: Input apply_xfm requires inputs: in_matrix_file\n",
      "  warn(msg)\n"
     ]
    }
   ],
   "source": [
    "example_func2standard_full = pe.MapNode(fsl.FLIRT(interp='trilinear',reference = standard_brain,apply_xfm = True,echospacing = 0.0007),\n",
    "                                name = \"example_func2standard_full\",\n",
    "                                  iterfield = ['in_file','in_matrix_file'])"
   ]
  },
  {
   "cell_type": "code",
   "execution_count": 12,
   "metadata": {
    "collapsed": true
   },
   "outputs": [],
   "source": [
    "wf = Workflow(name=\"prelim\")  # Workflows need names too"
   ]
  },
  {
   "cell_type": "code",
   "execution_count": 13,
   "metadata": {
    "collapsed": false
   },
   "outputs": [
    {
     "data": {
      "text/plain": [
       "'\"\\nwf.connect([(fmri_skullstrip,motion_correction,[(\\'out_file\\',\\'in_file\\')]),\\n            (structural_skullstrip,epi_registration,[(\\'out_file\\',\\'t1_brain\\')]),\\n            (motion_correction,epi_registration,[(\\'out_file\\',\\'epi\\')])])\\n            #(epi_registration,structural_linear_rego,[(\\'out_file\\',\\'in_file\\')]),\\n            #(structural_linear_rego,structural_nonlinear_rego,[(\\'out_file\\',\\'in_file\\'),(\\'out_matrix_file\\',\\'affine_file\\')])])\\n        '"
      ]
     },
     "execution_count": 13,
     "metadata": {},
     "output_type": "execute_result"
    }
   ],
   "source": [
    "\"\"\"\"\n",
    "wf.connect([(fmri_skullstrip,motion_correction,[('out_file','in_file')]),\n",
    "            (structural_skullstrip,epi_registration,[('out_file','t1_brain')]),\n",
    "            (motion_correction,epi_registration,[('out_file','epi')])])\n",
    "            #(epi_registration,structural_linear_rego,[('out_file','in_file')]),\n",
    "            #(structural_linear_rego,structural_nonlinear_rego,[('out_file','in_file'),('out_matrix_file','affine_file')])])\n",
    "        \"\"\""
   ]
  },
  {
   "cell_type": "code",
   "execution_count": 14,
   "metadata": {
    "collapsed": false
   },
   "outputs": [],
   "source": [
    "wf.connect([(fmri_skullstrip,motion_correction,[('out_file','in_file')]),\n",
    "            (structural_skullstrip,epi_registration,[('out_file','t1_brain')]),\n",
    "            (motion_correction,epi_registration,[('out_file','epi')]),\n",
    "            (epi_registration,example_func2standard,[('epi2str_mat','in_file')]),\n",
    "            (structural_skullstrip,highres2standard,[('out_file','in_file')]),\n",
    "            (highres2standard,example_func2standard,[('out_matrix_file','in_file2')]),\n",
    "            (motion_correction,example_func2standard_full,[('out_file','in_file')]),\n",
    "            (example_func2standard,example_func2standard_full,[('out_file','in_matrix_file')])])"
   ]
  },
  {
   "cell_type": "markdown",
   "metadata": {},
   "source": [
    "### Create a set of iterables"
   ]
  },
  {
   "cell_type": "code",
   "execution_count": 15,
   "metadata": {
    "collapsed": false
   },
   "outputs": [
    {
     "name": "stdout",
     "output_type": "stream",
     "text": [
      "161213-12:49:16,957 workflow INFO:\n",
      "\t Converting dotfile: /media/harrison/Short term/working_dir/prelim/prelim_graph.dot to png format\n"
     ]
    },
    {
     "data": {
      "image/png": "[encoded data removed]",
      "text/plain": [
       "<IPython.core.display.Image object>"
      ]
     },
     "execution_count": 15,
     "metadata": {},
     "output_type": "execute_result"
    }
   ],
   "source": [
    "wf.base_dir = \"/media/harrison/Short term/working_dir\"\n",
    "wf.write_graph(\"prelim_graph.dot\")\n",
    "from IPython.display import Image\n",
    "Image(filename=\"/media/harrison/Short term/working_dir/prelim/prelim_graph.dot.png\")"
   ]
  },
  {
   "cell_type": "code",
   "execution_count": 16,
   "metadata": {
    "collapsed": true
   },
   "outputs": [],
   "source": [
    "fmri_path = '/RDSMount/STUDY_DATA/SMART_DATA/HARRISON_WORK/rsfMRI_dcm2nii_4D/'\n",
    "fmri_files = [fmri_path +'SMART001rsfMRI_BL.nii' , fmri_path +'SMART055rsfMRI_BL.nii']"
   ]
  },
  {
   "cell_type": "code",
   "execution_count": 17,
   "metadata": {
    "collapsed": true
   },
   "outputs": [],
   "source": [
    "structural_path = '/RDSMount/STUDY_DATA/SMART_DATA/HARRISON_WORK/T1_nii_dcm2nii/'\n",
    "structural_files = [structural_path + 'SMART001T1_BL.nii' ,structural_path + 'SMART055T1_BL.nii']"
   ]
  },
  {
   "cell_type": "code",
   "execution_count": 18,
   "metadata": {
    "collapsed": false
   },
   "outputs": [],
   "source": [
    "fmri_skullstrip.inputs.in_file = fmri_files\n",
    "structural_skullstrip.inputs.in_file = structural_files\n",
    "epi_registration.inputs.t1_head = structural_files"
   ]
  },
  {
   "cell_type": "code",
   "execution_count": null,
   "metadata": {
    "collapsed": false,
    "scrolled": true
   },
   "outputs": [
    {
     "name": "stdout",
     "output_type": "stream",
     "text": [
      "161213-12:49:28,112 workflow INFO:\n",
      "\t ['check', 'execution', 'logging']\n",
      "161213-12:49:28,141 workflow INFO:\n",
      "\t Running serially.\n",
      "161213-12:49:28,149 workflow INFO:\n",
      "\t Executing node fmri_skullstrip in dir: /home/harrison/Documents/mri/working_dir/prelim/fmri_skullstrip\n",
      "161213-12:49:28,184 workflow INFO:\n",
      "\t Executing node _fmri_skullstrip0 in dir: /home/harrison/Documents/mri/working_dir/prelim/fmri_skullstrip/mapflow/_fmri_skullstrip0\n",
      "161213-12:49:28,205 workflow INFO:\n",
      "\t Running: bet /RDSMount/STUDY_DATA/SMART_DATA/HARRISON_WORK/rsfMRI_dcm2nii_4D/SMART001rsfMRI_BL.nii /home/harrison/Documents/mri/working_dir/prelim/fmri_skullstrip/mapflow/_fmri_skullstrip0/SMART001rsfMRI_BL_brain.nii.gz -F -m\n"
     ]
    }
   ],
   "source": [
    "wf.base_dir = \"working_dir\"\n",
    "wf.run()"
   ]
  },
  {
   "cell_type": "code",
   "execution_count": null,
   "metadata": {
    "collapsed": true
   },
   "outputs": [],
   "source": []
  },
  {
   "cell_type": "code",
   "execution_count": null,
   "metadata": {
    "collapsed": true
   },
   "outputs": [],
   "source": [
    "file_show = '/home/harrison/Documents/mri/working_dir/prelim/motion_correction/SMART001rsfMRI_BL_brain_mcf.nii.gz'"
   ]
  },
  {
   "cell_type": "code",
   "execution_count": null,
   "metadata": {
    "collapsed": false
   },
   "outputs": [],
   "source": [
    "img = nib.load(file_show)\n",
    "data = img.get_data()\n",
    "aff = img.affine\n",
    "print(data.shape)\n",
    "\n",
    "# Find the center of the brain matrix\n",
    "ctr = np.dot(np.linalg.inv(aff), [0, 0, 0, 1])[:3]\n",
    "\n",
    "# Plot the data\n",
    "#vmin, vmax = (0, 1) if data.dtype == np.int16 else (30, 150)\n",
    "plt.imshow(np.rot90(data[:, :, ctr[2] + 5,100]),\n",
    "           cmap=\"gray\")\n",
    "plt.gca().set_axis_off()"
   ]
  },
  {
   "cell_type": "code",
   "execution_count": null,
   "metadata": {
    "collapsed": false
   },
   "outputs": [],
   "source": [
    "file_show = '/home/harrison/Documents/mri/working_dir/prelim/fmri_skullstrip/SMART001rsfMRI_BL_brain.nii.gz'"
   ]
  },
  {
   "cell_type": "code",
   "execution_count": null,
   "metadata": {
    "collapsed": false
   },
   "outputs": [],
   "source": [
    "img = nib.load(file_show)\n",
    "data = img.get_data()\n",
    "aff = img.affine\n",
    "\n",
    "# Find the center of the brain matrix\n",
    "ctr = np.dot(np.linalg.inv(aff), [0, 0, 0, 1])[:3]\n",
    "\n",
    "# Plot the data\n",
    "#vmin, vmax = (0, 1) if data.dtype == np.int16 else (30, 150)\n",
    "plt.imshow(np.rot90(data[:, :, ctr[2] + 5,100]),\n",
    "           cmap=\"gray\")\n",
    "plt.gca().set_axis_off()"
   ]
  },
  {
   "cell_type": "code",
   "execution_count": null,
   "metadata": {
    "collapsed": true
   },
   "outputs": [],
   "source": [
    "file_show = '/home/harrison/001_reg_no_fmap.feat/filtered_func_data.nii.gz'"
   ]
  },
  {
   "cell_type": "code",
   "execution_count": null,
   "metadata": {
    "collapsed": true
   },
   "outputs": [],
   "source": [
    "img = nib.load(file_show)\n",
    "data = img.get_data()\n",
    "aff = img.affine"
   ]
  },
  {
   "cell_type": "code",
   "execution_count": null,
   "metadata": {
    "collapsed": false
   },
   "outputs": [],
   "source": [
    "img = nib.load(file_show)\n",
    "data = img.get_data()\n",
    "aff = img.affine\n",
    "\n",
    "# Find the center of the brain matrix\n",
    "ctr = np.dot(np.linalg.inv(aff), [0, 0, 0, 1])[:3]\n",
    "\n",
    "# Plot the data\n",
    "#vmin, vmax = (0, 1) if data.dtype == np.int16 else (30, 150)\n",
    "plt.imshow(np.rot90(data[:, :, ctr[2] + 5,100]),\n",
    "           cmap=\"gray\")\n",
    "plt.gca().set_axis_off()"
   ]
  },
  {
   "cell_type": "code",
   "execution_count": null,
   "metadata": {
    "collapsed": true
   },
   "outputs": [],
   "source": [
    "file_show = \"/usr/share/fsl/5.0/data/standard/MNI152_T1_2mm_brain.nii.gz\""
   ]
  },
  {
   "cell_type": "code",
   "execution_count": null,
   "metadata": {
    "collapsed": false
   },
   "outputs": [],
   "source": [
    "img = nib.load(file_show)\n",
    "data = img.get_data()\n",
    "aff = img.affine\n",
    "\n",
    "# Find the center of the brain matrix\n",
    "ctr = np.dot(np.linalg.inv(aff), [0, 0, 0, 1])[:3]\n",
    "\n",
    "# Plot the data\n",
    "#vmin, vmax = (0, 1) if data.dtype == np.int16 else (30, 150)\n",
    "plt.imshow(np.rot90(data[:, :, ctr[2] + 5]),\n",
    "           cmap=\"gray\")\n",
    "plt.gca().set_axis_off()"
   ]
  },
  {
   "cell_type": "code",
   "execution_count": null,
   "metadata": {
    "collapsed": false
   },
   "outputs": [],
   "source": [
    "fsl.epi.EpiReg.help()"
   ]
  },
  {
   "cell_type": "code",
   "execution_count": null,
   "metadata": {
    "collapsed": false
   },
   "outputs": [],
   "source": [
    "fsl.FLIRT.help()"
   ]
  },
  {
   "cell_type": "code",
   "execution_count": null,
   "metadata": {
    "collapsed": false
   },
   "outputs": [],
   "source": [
    "fsl.FNIRT.help()"
   ]
  },
  {
   "cell_type": "code",
   "execution_count": null,
   "metadata": {
    "collapsed": true
   },
   "outputs": [],
   "source": []
  }
 ],
 "metadata": {
  "kernelspec": {
   "display_name": "Python 2",
   "language": "python",
   "name": "python2"
  },
  "language_info": {
   "codemirror_mode": {
    "name": "ipython",
    "version": 2
   },
   "file_extension": ".py",
   "mimetype": "text/x-python",
   "name": "python",
   "nbconvert_exporter": "python",
   "pygments_lexer": "ipython2",
   "version": "2.7.12"
  }
 },
 "nbformat": 4,
 "nbformat_minor": 1
}
